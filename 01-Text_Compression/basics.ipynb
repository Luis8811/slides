{
 "cells": [
  {
   "cell_type": "markdown",
   "metadata": {
    "slideshow": {
     "slide_type": "slide"
    }
   },
   "source": [
    "# Data compression fundamentals "
   ]
  },
  {
   "cell_type": "markdown",
   "metadata": {
    "slideshow": {
     "slide_type": "slide"
    }
   },
   "source": [
    "### Symbols, runs, strings, code-words, and code-streams!\n",
    "\n",
    "* In the context of statistical coding, each sample $s[i]$ is\n",
    "  called a [*symbol*](https://en.wikipedia.org/wiki/Symbol).\n",
    "  \n",
    "* Depending on the type of statistical relationship among\n",
    "  symbols, we will also speak about [*strings*](https://en.wikipedia.org/wiki/String_(computer_science) when we process\n",
    "  more than one symbol, and about [*runs*](https://en.wikipedia.org/wiki/Sequence#Sequences_and_automata) when all the symbols are\n",
    "  the same in a string.\n",
    "  \n",
    "* In any case, the output of the encoder is a sequence of\n",
    "  [*code-words*](https://en.wikipedia.org/wiki/Universal_code_(data_compression) that all together generates a *code-stream*."
   ]
  }
 ],
 "metadata": {
  "celltoolbar": "Slideshow",
  "kernelspec": {
   "display_name": "Python 3",
   "language": "python",
   "name": "python3"
  },
  "language_info": {
   "codemirror_mode": {
    "name": "ipython",
    "version": 3
   },
   "file_extension": ".py",
   "mimetype": "text/x-python",
   "name": "python",
   "nbconvert_exporter": "python",
   "pygments_lexer": "ipython3",
   "version": "3.6.3"
  }
 },
 "nbformat": 4,
 "nbformat_minor": 1
}
